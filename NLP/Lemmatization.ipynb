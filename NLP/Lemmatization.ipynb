{
 "cells": [
  {
   "cell_type": "markdown",
   "id": "1369fd04-3c49-4951-ace2-f509c94bb74c",
   "metadata": {},
   "source": [
    "## Wordnet Lemmatizer\n",
    "\n",
    "The output we grt after lemmatization is called \"lemma\".which is root word rather than root stem."
   ]
  },
  {
   "cell_type": "code",
   "execution_count": 2,
   "id": "6b2ff8cb-69d4-4f3e-94fe-474b115b78e9",
   "metadata": {},
   "outputs": [],
   "source": [
    "from nltk.stem import WordNetLemmatizer"
   ]
  },
  {
   "cell_type": "code",
   "execution_count": 20,
   "id": "437b080a-17ac-4bc0-a883-f1b14a1da78d",
   "metadata": {},
   "outputs": [
    {
     "name": "stderr",
     "output_type": "stream",
     "text": [
      "[nltk_data] Downloading package averaged_perceptron_tagger_eng to\n",
      "[nltk_data]     /home/mayur/nltk_data...\n",
      "[nltk_data]   Unzipping taggers/averaged_perceptron_tagger_eng.zip.\n"
     ]
    },
    {
     "data": {
      "text/plain": [
       "True"
      ]
     },
     "execution_count": 20,
     "metadata": {},
     "output_type": "execute_result"
    }
   ],
   "source": [
    "import nltk\n",
    "# nltk.download('wordnet')\n",
    "nltk.download('averaged_perceptron_tagger_eng')"
   ]
  },
  {
   "cell_type": "code",
   "execution_count": 7,
   "id": "05497c2e-20b4-48a0-b359-9623d6deee3b",
   "metadata": {},
   "outputs": [],
   "source": [
    "lemmatizer=WordNetLemmatizer()"
   ]
  },
  {
   "cell_type": "code",
   "execution_count": 9,
   "id": "f075a947-c876-4d17-8ccc-3dd3ef508d9d",
   "metadata": {},
   "outputs": [
    {
     "data": {
      "text/plain": [
       "'going'"
      ]
     },
     "execution_count": 9,
     "metadata": {},
     "output_type": "execute_result"
    }
   ],
   "source": [
    "lemmatizer.lemmatize(\"going\") ##pos tag is 'n' , that is noun "
   ]
  },
  {
   "cell_type": "code",
   "execution_count": 11,
   "id": "9be5355d-03a5-4d80-aedc-1e90d48265b5",
   "metadata": {},
   "outputs": [
    {
     "data": {
      "text/plain": [
       "'go'"
      ]
     },
     "execution_count": 11,
     "metadata": {},
     "output_type": "execute_result"
    }
   ],
   "source": [
    "'''\n",
    "pos params:\n",
    "noun -n\n",
    "verb -v\n",
    "adjective -a\n",
    "adverb -r\n",
    "'''\n",
    "lemmatizer.lemmatize('going',pos='v')"
   ]
  },
  {
   "cell_type": "code",
   "execution_count": 12,
   "id": "8eac6829-8760-4ad3-98dd-a7678412f920",
   "metadata": {},
   "outputs": [],
   "source": [
    "words=[\"eating\",\"eats\",\"eaten\",\"writing\",\"writes\",\"programming\",\"programs\",\"history\",\"finally\",\"finalized\"]"
   ]
  },
  {
   "cell_type": "code",
   "execution_count": 14,
   "id": "66cc490e-2a0d-4901-9208-99c3277d0625",
   "metadata": {},
   "outputs": [
    {
     "name": "stdout",
     "output_type": "stream",
     "text": [
      "eating---->eat\n",
      "eats---->eat\n",
      "eaten---->eat\n",
      "writing---->write\n",
      "writes---->write\n",
      "programming---->program\n",
      "programs---->program\n",
      "history---->history\n",
      "finally---->finally\n",
      "finalized---->finalize\n"
     ]
    }
   ],
   "source": [
    "for word in words:\n",
    "    print(word+\"---->\"+lemmatizer.lemmatize(word,pos='v'))"
   ]
  },
  {
   "cell_type": "code",
   "execution_count": 15,
   "id": "b096ce66-8bbf-4c1a-9d72-0833fb450c89",
   "metadata": {},
   "outputs": [],
   "source": [
    "sentence = \"He was running and studying hard.\""
   ]
  },
  {
   "cell_type": "code",
   "execution_count": 16,
   "id": "d6fbb846-e600-4673-9bde-64736ebfb758",
   "metadata": {},
   "outputs": [],
   "source": [
    "from nltk import pos_tag,word_tokenize"
   ]
  },
  {
   "cell_type": "code",
   "execution_count": 18,
   "id": "d7549f0a-afc6-460e-950c-21aa2035405f",
   "metadata": {},
   "outputs": [
    {
     "name": "stdout",
     "output_type": "stream",
     "text": [
      "['He', 'was', 'running', 'and', 'studying', 'hard', '.']\n"
     ]
    }
   ],
   "source": [
    "tokenize=word_tokenize(sentence)\n",
    "print(tokenize)"
   ]
  },
  {
   "cell_type": "code",
   "execution_count": 29,
   "id": "7abfe052-a8e5-4185-ada8-b3fe5e1bdcaf",
   "metadata": {},
   "outputs": [
    {
     "data": {
      "text/plain": [
       "[('He', 'PRP'),\n",
       " ('was', 'VBD'),\n",
       " ('running', 'VBG'),\n",
       " ('and', 'CC'),\n",
       " ('studying', 'VBG'),\n",
       " ('hard', 'RB'),\n",
       " ('.', '.')]"
      ]
     },
     "execution_count": 29,
     "metadata": {},
     "output_type": "execute_result"
    }
   ],
   "source": [
    "token_pair=pos_tag(tokenize)\n",
    "token_pair"
   ]
  },
  {
   "cell_type": "code",
   "execution_count": 31,
   "id": "42a163ff-964e-4285-ba2c-82b1c8ae3ad7",
   "metadata": {},
   "outputs": [],
   "source": [
    "def get_tag(tag):\n",
    "    if tag.startswith('J'):  # Adjective\n",
    "        return 'a'\n",
    "    elif tag.startswith('V'):  # Verb\n",
    "        return 'v'\n",
    "    elif tag.startswith('N'):  # Noun\n",
    "        return 'n'\n",
    "    elif tag.startswith('R'):  # Adverb\n",
    "        return 'r'\n",
    "    else:\n",
    "        return None  # Other"
   ]
  },
  {
   "cell_type": "code",
   "execution_count": 36,
   "id": "9d68b89a-7881-4467-b009-e99ee427ebbc",
   "metadata": {},
   "outputs": [
    {
     "name": "stdout",
     "output_type": "stream",
     "text": [
      "['He', 'be', 'run', 'and', 'study', 'hard']\n"
     ]
    }
   ],
   "source": [
    "import string\n",
    "\n",
    "lemmatized_sentence=[lemmatizer.lemmatize(word,get_tag(tag)) \n",
    "                     if get_tag(tag) else word\n",
    "                     for (word,tag) in token_pair\n",
    "                     if word not in string.punctuation  # Exclude punctuation\n",
    "                     ]\n",
    "print(lemmatized_sentence)"
   ]
  },
  {
   "cell_type": "code",
   "execution_count": null,
   "id": "cba93686-a3d6-426d-93a4-bfdba0ca2de7",
   "metadata": {},
   "outputs": [],
   "source": []
  }
 ],
 "metadata": {
  "kernelspec": {
   "display_name": "Python 3 (ipykernel)",
   "language": "python",
   "name": "python3"
  },
  "language_info": {
   "codemirror_mode": {
    "name": "ipython",
    "version": 3
   },
   "file_extension": ".py",
   "mimetype": "text/x-python",
   "name": "python",
   "nbconvert_exporter": "python",
   "pygments_lexer": "ipython3",
   "version": "3.12.7"
  }
 },
 "nbformat": 4,
 "nbformat_minor": 5
}
