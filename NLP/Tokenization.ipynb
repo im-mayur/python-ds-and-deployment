{
 "cells": [
  {
   "cell_type": "code",
   "execution_count": 16,
   "id": "3032d3d9-278f-4240-b2ad-2a9d5f0c2d06",
   "metadata": {},
   "outputs": [],
   "source": [
    "from nltk.tokenize import sent_tokenize"
   ]
  },
  {
   "cell_type": "code",
   "execution_count": 21,
   "id": "b1558fad-8761-4b1e-91c3-3bc173cf6207",
   "metadata": {},
   "outputs": [
    {
     "name": "stderr",
     "output_type": "stream",
     "text": [
      "[nltk_data] Downloading package punkt_tab to /home/mayur/nltk_data...\n",
      "[nltk_data]   Unzipping tokenizers/punkt_tab.zip.\n"
     ]
    },
    {
     "data": {
      "text/plain": [
       "True"
      ]
     },
     "execution_count": 21,
     "metadata": {},
     "output_type": "execute_result"
    }
   ],
   "source": [
    "import nltk\n",
    "nltk.download('punkt_tab')"
   ]
  },
  {
   "cell_type": "code",
   "execution_count": 39,
   "id": "b927b66e-60be-4ef8-b852-a42ba6ca7448",
   "metadata": {},
   "outputs": [],
   "source": [
    "corpus = '''Hello, This is mayur's NLP  tutorial.\n",
    "NLP stands for natural language processing.\n",
    "'''"
   ]
  },
  {
   "cell_type": "code",
   "execution_count": 40,
   "id": "07c5cda1-01f1-470e-8772-318a0b252373",
   "metadata": {},
   "outputs": [
    {
     "name": "stdout",
     "output_type": "stream",
     "text": [
      "Hello, This is mayur's NLP  tutorial.\n",
      "NLP stands for natural language processing.\n",
      "\n"
     ]
    }
   ],
   "source": [
    "print(corpus)"
   ]
  },
  {
   "cell_type": "code",
   "execution_count": 41,
   "id": "1683af3d-2418-4783-a81e-b37d7275ad86",
   "metadata": {},
   "outputs": [],
   "source": [
    "documents=sent_tokenize(corpus)"
   ]
  },
  {
   "cell_type": "code",
   "execution_count": 42,
   "id": "755ce699-8bfd-4ed2-a99f-aff0dbae5a23",
   "metadata": {},
   "outputs": [
    {
     "name": "stdout",
     "output_type": "stream",
     "text": [
      "[\"Hello, This is mayur's NLP  tutorial.\", 'NLP stands for natural language processing.']\n"
     ]
    }
   ],
   "source": [
    "print(documents)"
   ]
  },
  {
   "cell_type": "code",
   "execution_count": 43,
   "id": "e8147431-eff9-43f3-a799-ac73d186869c",
   "metadata": {},
   "outputs": [
    {
     "data": {
      "text/plain": [
       "list"
      ]
     },
     "execution_count": 43,
     "metadata": {},
     "output_type": "execute_result"
    }
   ],
   "source": [
    "type(documents)"
   ]
  },
  {
   "cell_type": "code",
   "execution_count": 44,
   "id": "15a6f97b-f537-433e-b3ab-3164d5de1e49",
   "metadata": {},
   "outputs": [],
   "source": [
    "## converts to words\n",
    "\n",
    "from nltk.tokenize import word_tokenize"
   ]
  },
  {
   "cell_type": "code",
   "execution_count": 45,
   "id": "c74c2d5d-9b61-4191-a90d-21dfdd884e52",
   "metadata": {},
   "outputs": [
    {
     "data": {
      "text/plain": [
       "['Hello',\n",
       " ',',\n",
       " 'This',\n",
       " 'is',\n",
       " 'mayur',\n",
       " \"'s\",\n",
       " 'NLP',\n",
       " 'tutorial',\n",
       " '.',\n",
       " 'NLP',\n",
       " 'stands',\n",
       " 'for',\n",
       " 'natural',\n",
       " 'language',\n",
       " 'processing',\n",
       " '.']"
      ]
     },
     "execution_count": 45,
     "metadata": {},
     "output_type": "execute_result"
    }
   ],
   "source": [
    "word_tokenize(corpus)"
   ]
  },
  {
   "cell_type": "code",
   "execution_count": 46,
   "id": "ae83109e-9f40-4275-b455-fea3a97a5f95",
   "metadata": {},
   "outputs": [
    {
     "name": "stdout",
     "output_type": "stream",
     "text": [
      "['Hello', ',', 'This', 'is', 'mayur', \"'s\", 'NLP', 'tutorial', '.']\n",
      "['NLP', 'stands', 'for', 'natural', 'language', 'processing', '.']\n"
     ]
    }
   ],
   "source": [
    "for sentence in sent_tokenize(corpus):\n",
    "    print(word_tokenize(sentence))"
   ]
  },
  {
   "cell_type": "code",
   "execution_count": 47,
   "id": "2ecb0748-b0ae-42c0-b636-69f7786c9a64",
   "metadata": {},
   "outputs": [
    {
     "data": {
      "text/plain": [
       "['Hello',\n",
       " ',',\n",
       " 'This',\n",
       " 'is',\n",
       " 'mayur',\n",
       " \"'\",\n",
       " 's',\n",
       " 'NLP',\n",
       " 'tutorial',\n",
       " '.',\n",
       " 'NLP',\n",
       " 'stands',\n",
       " 'for',\n",
       " 'natural',\n",
       " 'language',\n",
       " 'processing',\n",
       " '.']"
      ]
     },
     "execution_count": 47,
     "metadata": {},
     "output_type": "execute_result"
    }
   ],
   "source": [
    "from nltk.tokenize import wordpunct_tokenize\n",
    "\n",
    "wordpunct_tokenize(corpus)"
   ]
  },
  {
   "cell_type": "code",
   "execution_count": 48,
   "id": "ba25e3ea-cba6-4036-b84b-29085ea998bc",
   "metadata": {},
   "outputs": [],
   "source": [
    "from nltk.tokenize import TreebankWordTokenizer"
   ]
  },
  {
   "cell_type": "code",
   "execution_count": 49,
   "id": "afde5743-2d6f-4a9b-bb05-2ffbee46abb0",
   "metadata": {},
   "outputs": [],
   "source": [
    "tokenizer=TreebankWordTokenizer()"
   ]
  },
  {
   "cell_type": "code",
   "execution_count": 50,
   "id": "6287b47d-5b99-4d32-83b0-9c7712d07599",
   "metadata": {},
   "outputs": [
    {
     "data": {
      "text/plain": [
       "['Hello',\n",
       " ',',\n",
       " 'This',\n",
       " 'is',\n",
       " 'mayur',\n",
       " \"'s\",\n",
       " 'NLP',\n",
       " 'tutorial.',\n",
       " 'NLP',\n",
       " 'stands',\n",
       " 'for',\n",
       " 'natural',\n",
       " 'language',\n",
       " 'processing',\n",
       " '.']"
      ]
     },
     "execution_count": 50,
     "metadata": {},
     "output_type": "execute_result"
    }
   ],
   "source": [
    "tokenizer.tokenize(corpus)"
   ]
  },
  {
   "cell_type": "code",
   "execution_count": null,
   "id": "d7c8e440-dcb8-413e-8f4e-9de0b88d3d4c",
   "metadata": {},
   "outputs": [],
   "source": []
  }
 ],
 "metadata": {
  "kernelspec": {
   "display_name": "Python 3 (ipykernel)",
   "language": "python",
   "name": "python3"
  },
  "language_info": {
   "codemirror_mode": {
    "name": "ipython",
    "version": 3
   },
   "file_extension": ".py",
   "mimetype": "text/x-python",
   "name": "python",
   "nbconvert_exporter": "python",
   "pygments_lexer": "ipython3",
   "version": "3.12.7"
  }
 },
 "nbformat": 4,
 "nbformat_minor": 5
}
